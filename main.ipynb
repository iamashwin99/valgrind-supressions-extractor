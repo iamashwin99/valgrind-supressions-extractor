{
 "cells": [
  {
   "cell_type": "code",
   "execution_count": 1,
   "metadata": {},
   "outputs": [],
   "source": [
    "import os\n",
    "import re\n"
   ]
  },
  {
   "cell_type": "code",
   "execution_count": 2,
   "metadata": {},
   "outputs": [],
   "source": [
    "# Load the stdio file into a string\n",
    "with open('stdio', 'r') as f:\n",
    "    stdio = f.read()\n"
   ]
  },
  {
   "cell_type": "code",
   "execution_count": 61,
   "metadata": {},
   "outputs": [],
   "source": [
    "# ignore the first section where only the tests executions are printed\n",
    "# look for the last \"In execution:\" and then cut everything before it\n",
    "\n",
    "last_in_execution = stdio.rfind('In execution:')\n",
    "stdio=stdio[last_in_execution:]"
   ]
  },
  {
   "cell_type": "code",
   "execution_count": 3,
   "metadata": {},
   "outputs": [],
   "source": [
    "# # we need to find valgrind supression outputs\n",
    "# # Its a block of text starts with:\n",
    "# # ==2241829==\n",
    "# #{\n",
    "# # and ends with\n",
    "# #}\n",
    "# #==2241829== LEAK SUMMARY:\n",
    "# # where 2241829 is any number\n",
    "\n",
    "# match_group_pattern = r\"==\\d+==\\n(\\{.*?\\}\\n)==\\d+== LEAK SUMMARY:\"\n",
    "\n",
    "# list_of_matches = re.findall(match_group_pattern, stdio, re.DOTALL)\n"
   ]
  },
  {
   "cell_type": "code",
   "execution_count": 4,
   "metadata": {},
   "outputs": [
    {
     "data": {
      "text/plain": [
       "0"
      ]
     },
     "execution_count": 4,
     "metadata": {},
     "output_type": "execute_result"
    }
   ],
   "source": [
    "# len(list_of_matches)"
   ]
  },
  {
   "cell_type": "code",
   "execution_count": 63,
   "metadata": {},
   "outputs": [],
   "source": [
    "# == \\n{\\\n",
    "match_top = r\"==\\d+== \\n\\{\"\n",
    "# \\n}\\n==1756825==\n",
    "# match_bottom = r\"==\\d+== LEAK SUMMARY:\"\n",
    "match_bottom = r\"\\n\\}\\n==\\d+==\"\n",
    "\n",
    "match_top_str = re.findall(match_top, stdio)\n",
    "match_bottom_str = re.findall(match_bottom, stdio)\n",
    "bottom_index = []\n",
    "top_index = []\n",
    "for bottom in match_bottom_str:\n",
    "    bottom_index.append(stdio.find(bottom)+2)\n",
    "\n",
    "for top in match_top_str:\n",
    "    # append the index of the last character of the match\n",
    "\n",
    "    top_index.append(stdio.find(top)+len(top)-1)"
   ]
  },
  {
   "cell_type": "code",
   "execution_count": 64,
   "metadata": {},
   "outputs": [
    {
     "data": {
      "text/plain": [
       "(528, 532)"
      ]
     },
     "execution_count": 64,
     "metadata": {},
     "output_type": "execute_result"
    }
   ],
   "source": [
    "len(top_index), len(bottom_index)"
   ]
  },
  {
   "cell_type": "code",
   "execution_count": 65,
   "metadata": {},
   "outputs": [],
   "source": [
    "knonw_sup_hash = []\n",
    "for i in range(len(top_index)):\n",
    "    start=top_index[i]\n",
    "    end = bottom_index[i]\n",
    "    suppression = stdio[start:end]\n",
    "    # print(suppression)\n",
    "    # if the suppression is not unique, append this to a file suppressions.txt\n",
    "    sup_hash = hash(suppression)\n",
    "    if sup_hash not in knonw_sup_hash:\n",
    "        # write to file\n",
    "        with open('suppressions.txt', 'a') as f:\n",
    "            f.write(suppression)\n",
    "        knonw_sup_hash.append(sup_hash)\n",
    "    else:\n",
    "        pass\n",
    "\n"
   ]
  },
  {
   "cell_type": "code",
   "execution_count": 40,
   "metadata": {},
   "outputs": [
    {
     "data": {
      "text/plain": [
       "'u/ld-2.31.so)\\n==1756825== \\n{\\n   <insert_a_suppression_name_here>\\n   Memcheck:Leak\\n   match-leak-kinds: reachable\\n   fun:malloc\\n   fun:gomp_malloc\\n   fun:gomp_init_num_threads\\n   fun:initialize_env\\n   fun:call_init.part.0\\n   fun:call_init\\n   fun:_dl_init\\n   obj:/usr/lib/x86_64-linux-gnu/ld-2.31.so\\n}\\n==1756825== LEAK SUMMARY:\\n==1756825==    definitely lost: 0 bytes in 0 blocks\\n==1756825==    indirec'"
      ]
     },
     "execution_count": 40,
     "metadata": {},
     "output_type": "execute_result"
    }
   ],
   "source": [
    "loc = bottom_index[0]\n",
    "(stdio[loc-300:loc+100])"
   ]
  },
  {
   "cell_type": "code",
   "execution_count": null,
   "metadata": {},
   "outputs": [],
   "source": []
  }
 ],
 "metadata": {
  "kernelspec": {
   "display_name": "Python 3",
   "language": "python",
   "name": "python3"
  },
  "language_info": {
   "codemirror_mode": {
    "name": "ipython",
    "version": 3
   },
   "file_extension": ".py",
   "mimetype": "text/x-python",
   "name": "python",
   "nbconvert_exporter": "python",
   "pygments_lexer": "ipython3",
   "version": "3.11.3"
  }
 },
 "nbformat": 4,
 "nbformat_minor": 2
}
